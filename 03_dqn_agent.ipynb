{
 "cells": [
  {
   "cell_type": "code",
   "execution_count": 7,
   "metadata": {},
   "outputs": [],
   "source": [
    "import matplotlib.pyplot as plt\n",
    "import numpy as np\n",
    "import random\n",
    "import phyre\n",
    "import torch\n",
    "import logging\n",
    "mpl_logger = logging.getLogger('matplotlib')\n",
    "mpl_logger.setLevel(logging.WARNING) "
   ]
  },
  {
   "cell_type": "code",
   "execution_count": 8,
   "metadata": {},
   "outputs": [],
   "source": [
    "tier = 'ball'\n",
    "eval_setup = 'ball_within_template'\n",
    "fold_id = 0\n",
    "random.seed(0)"
   ]
  },
  {
   "cell_type": "markdown",
   "metadata": {},
   "source": [
    "### 1. Initialize the  Simulation Cache"
   ]
  },
  {
   "cell_type": "code",
   "execution_count": 9,
   "metadata": {},
   "outputs": [
    {
     "name": "stdout",
     "output_type": "stream",
     "text": [
      "Size of resulting splits:\n",
      " train: 1600 \n",
      " dev: 400 \n",
      " test: 500\n"
     ]
    }
   ],
   "source": [
    "train, dev, test = phyre.get_fold(eval_setup, fold_id)\n",
    "print('Size of resulting splits:\\n train:', len(train), '\\n dev:',\n",
    "      len(dev), '\\n test:', len(test))"
   ]
  },
  {
   "cell_type": "code",
   "execution_count": 10,
   "metadata": {},
   "outputs": [
    {
     "name": "stdout",
     "output_type": "stream",
     "text": [
      "cache.action_array shape: (100000, 3)\n"
     ]
    }
   ],
   "source": [
    "cache = phyre.get_default_100k_cache(tier)\n",
    "print('cache.action_array shape:', cache.action_array.shape)"
   ]
  },
  {
   "cell_type": "markdown",
   "metadata": {},
   "source": [
    "### 2. Initialize the DQN Agent"
   ]
  },
  {
   "cell_type": "code",
   "execution_count": 11,
   "metadata": {},
   "outputs": [
    {
     "name": "stderr",
     "output_type": "stream",
     "text": [
      "DEBUG:root:test\n"
     ]
    }
   ],
   "source": [
    "from dqn import DQNAgent"
   ]
  },
  {
   "cell_type": "code",
   "execution_count": 12,
   "metadata": {},
   "outputs": [],
   "source": [
    "agent = DQNAgent()"
   ]
  },
  {
   "cell_type": "markdown",
   "metadata": {},
   "source": [
    "### 3. Train the Agent"
   ]
  },
  {
   "cell_type": "code",
   "execution_count": 13,
   "metadata": {},
   "outputs": [
    {
     "name": "stderr",
     "output_type": "stream",
     "text": [
      "INFO:root:Preprocess the training data\n",
      "INFO:root:Train set: size=117005756, solved_ratio=1.71%\n",
      "INFO:root:Create evaluation data from train & dev\n",
      "INFO:root:Start initializing the Model\n",
      "INFO:root:Start Training the Model\n",
      "DEBUG:root:Iter: 1000, examples: 64000, mean loss: 0.308559, speed: 4.2 batch/sec, lr: 0.000300\n",
      "DEBUG:root:Iter: 2000, examples: 128000, mean loss: 0.207299, speed: 4.2 batch/sec, lr: 0.000300\n",
      "DEBUG:root:Iter: 3000, examples: 192000, mean loss: 0.182559, speed: 4.2 batch/sec, lr: 0.000299\n",
      "DEBUG:root:Iter: 4000, examples: 256000, mean loss: 0.160732, speed: 4.2 batch/sec, lr: 0.000299\n",
      "DEBUG:root:Iter: 5000, examples: 320000, mean loss: 0.156757, speed: 4.2 batch/sec, lr: 0.000298\n",
      "DEBUG:root:Iter: 6000, examples: 384000, mean loss: 0.145221, speed: 4.2 batch/sec, lr: 0.000297\n",
      "DEBUG:root:Iter: 7000, examples: 448000, mean loss: 0.141806, speed: 4.2 batch/sec, lr: 0.000296\n",
      "DEBUG:root:Iter: 8000, examples: 512000, mean loss: 0.134591, speed: 4.2 batch/sec, lr: 0.000295\n",
      "DEBUG:root:Iter: 9000, examples: 576000, mean loss: 0.129897, speed: 4.2 batch/sec, lr: 0.000294\n",
      "DEBUG:root:Iter: 10000, examples: 640000, mean loss: 0.127111, speed: 4.2 batch/sec, lr: 0.000293\n",
      "DEBUG:root:Iter: 11000, examples: 704000, mean loss: 0.123260, speed: 4.2 batch/sec, lr: 0.000291\n",
      "DEBUG:root:Iter: 12000, examples: 768000, mean loss: 0.120352, speed: 4.2 batch/sec, lr: 0.000289\n",
      "DEBUG:root:Iter: 13000, examples: 832000, mean loss: 0.112741, speed: 4.2 batch/sec, lr: 0.000288\n",
      "DEBUG:root:Iter: 14000, examples: 896000, mean loss: 0.110588, speed: 4.2 batch/sec, lr: 0.000286\n",
      "DEBUG:root:Iter: 15000, examples: 960000, mean loss: 0.109453, speed: 4.2 batch/sec, lr: 0.000284\n",
      "DEBUG:root:Iter: 16000, examples: 1024000, mean loss: 0.105949, speed: 4.2 batch/sec, lr: 0.000281\n",
      "DEBUG:root:Iter: 17000, examples: 1088000, mean loss: 0.105479, speed: 4.2 batch/sec, lr: 0.000279\n",
      "DEBUG:root:Iter: 18000, examples: 1152000, mean loss: 0.104026, speed: 4.2 batch/sec, lr: 0.000277\n",
      "DEBUG:root:Iter: 19000, examples: 1216000, mean loss: 0.099781, speed: 4.2 batch/sec, lr: 0.000274\n",
      "DEBUG:root:Iter: 20000, examples: 1280000, mean loss: 0.099531, speed: 4.2 batch/sec, lr: 0.000271\n",
      "DEBUG:root:Iter: 21000, examples: 1344000, mean loss: 0.097662, speed: 4.2 batch/sec, lr: 0.000269\n",
      "DEBUG:root:Iter: 22000, examples: 1408000, mean loss: 0.098028, speed: 4.2 batch/sec, lr: 0.000266\n",
      "DEBUG:root:Iter: 23000, examples: 1472000, mean loss: 0.094938, speed: 4.2 batch/sec, lr: 0.000263\n",
      "DEBUG:root:Iter: 24000, examples: 1536000, mean loss: 0.094709, speed: 4.1 batch/sec, lr: 0.000259\n",
      "DEBUG:root:Iter: 25000, examples: 1600000, mean loss: 0.094234, speed: 4.2 batch/sec, lr: 0.000256\n",
      "DEBUG:root:Iter: 26000, examples: 1664000, mean loss: 0.093020, speed: 4.1 batch/sec, lr: 0.000253\n",
      "DEBUG:root:Iter: 27000, examples: 1728000, mean loss: 0.089651, speed: 4.1 batch/sec, lr: 0.000249\n",
      "DEBUG:root:Iter: 28000, examples: 1792000, mean loss: 0.086845, speed: 4.2 batch/sec, lr: 0.000246\n",
      "DEBUG:root:Iter: 29000, examples: 1856000, mean loss: 0.089542, speed: 4.2 batch/sec, lr: 0.000242\n",
      "DEBUG:root:Iter: 30000, examples: 1920000, mean loss: 0.089807, speed: 4.2 batch/sec, lr: 0.000238\n",
      "DEBUG:root:Iter: 31000, examples: 1984000, mean loss: 0.085298, speed: 4.2 batch/sec, lr: 0.000234\n",
      "DEBUG:root:Iter: 32000, examples: 2048000, mean loss: 0.085319, speed: 4.2 batch/sec, lr: 0.000230\n",
      "DEBUG:root:Iter: 33000, examples: 2112000, mean loss: 0.087153, speed: 4.2 batch/sec, lr: 0.000226\n",
      "DEBUG:root:Iter: 34000, examples: 2176000, mean loss: 0.081401, speed: 4.2 batch/sec, lr: 0.000222\n",
      "DEBUG:root:Iter: 35000, examples: 2240000, mean loss: 0.080962, speed: 4.2 batch/sec, lr: 0.000218\n",
      "DEBUG:root:Iter: 36000, examples: 2304000, mean loss: 0.081659, speed: 4.2 batch/sec, lr: 0.000214\n",
      "DEBUG:root:Iter: 37000, examples: 2368000, mean loss: 0.080118, speed: 4.2 batch/sec, lr: 0.000210\n",
      "DEBUG:root:Iter: 38000, examples: 2432000, mean loss: 0.081588, speed: 4.2 batch/sec, lr: 0.000205\n",
      "DEBUG:root:Iter: 39000, examples: 2496000, mean loss: 0.079060, speed: 4.2 batch/sec, lr: 0.000201\n",
      "DEBUG:root:Iter: 40000, examples: 2560000, mean loss: 0.075549, speed: 4.2 batch/sec, lr: 0.000196\n",
      "DEBUG:root:Iter: 41000, examples: 2624000, mean loss: 0.079505, speed: 4.2 batch/sec, lr: 0.000192\n",
      "DEBUG:root:Iter: 42000, examples: 2688000, mean loss: 0.075962, speed: 4.2 batch/sec, lr: 0.000187\n",
      "DEBUG:root:Iter: 43000, examples: 2752000, mean loss: 0.073922, speed: 4.2 batch/sec, lr: 0.000183\n",
      "DEBUG:root:Iter: 44000, examples: 2816000, mean loss: 0.074475, speed: 4.2 batch/sec, lr: 0.000178\n",
      "DEBUG:root:Iter: 45000, examples: 2880000, mean loss: 0.074347, speed: 4.2 batch/sec, lr: 0.000173\n",
      "DEBUG:root:Iter: 46000, examples: 2944000, mean loss: 0.072132, speed: 4.2 batch/sec, lr: 0.000169\n",
      "DEBUG:root:Iter: 47000, examples: 3008000, mean loss: 0.074732, speed: 4.2 batch/sec, lr: 0.000164\n",
      "DEBUG:root:Iter: 48000, examples: 3072000, mean loss: 0.070023, speed: 4.2 batch/sec, lr: 0.000159\n",
      "DEBUG:root:Iter: 49000, examples: 3136000, mean loss: 0.071185, speed: 4.2 batch/sec, lr: 0.000155\n",
      "DEBUG:root:Iter: 50000, examples: 3200000, mean loss: 0.071156, speed: 4.2 batch/sec, lr: 0.000150\n",
      "DEBUG:root:Iter: 51000, examples: 3264000, mean loss: 0.069247, speed: 4.2 batch/sec, lr: 0.000145\n",
      "DEBUG:root:Iter: 52000, examples: 3328000, mean loss: 0.067043, speed: 4.2 batch/sec, lr: 0.000141\n",
      "DEBUG:root:Iter: 53000, examples: 3392000, mean loss: 0.069648, speed: 4.2 batch/sec, lr: 0.000136\n",
      "DEBUG:root:Iter: 54000, examples: 3456000, mean loss: 0.065904, speed: 4.2 batch/sec, lr: 0.000131\n",
      "DEBUG:root:Iter: 55000, examples: 3520000, mean loss: 0.067644, speed: 4.2 batch/sec, lr: 0.000127\n",
      "DEBUG:root:Iter: 56000, examples: 3584000, mean loss: 0.063647, speed: 4.2 batch/sec, lr: 0.000122\n",
      "DEBUG:root:Iter: 57000, examples: 3648000, mean loss: 0.064989, speed: 4.2 batch/sec, lr: 0.000117\n",
      "DEBUG:root:Iter: 58000, examples: 3712000, mean loss: 0.067304, speed: 4.2 batch/sec, lr: 0.000113\n",
      "DEBUG:root:Iter: 59000, examples: 3776000, mean loss: 0.065500, speed: 4.2 batch/sec, lr: 0.000108\n",
      "DEBUG:root:Iter: 60000, examples: 3840000, mean loss: 0.060888, speed: 4.2 batch/sec, lr: 0.000104\n",
      "DEBUG:root:Iter: 61000, examples: 3904000, mean loss: 0.062156, speed: 4.2 batch/sec, lr: 0.000099\n",
      "DEBUG:root:Iter: 62000, examples: 3968000, mean loss: 0.060563, speed: 4.2 batch/sec, lr: 0.000095\n",
      "DEBUG:root:Iter: 63000, examples: 4032000, mean loss: 0.062074, speed: 4.2 batch/sec, lr: 0.000090\n",
      "DEBUG:root:Iter: 64000, examples: 4096000, mean loss: 0.060243, speed: 4.2 batch/sec, lr: 0.000086\n",
      "DEBUG:root:Iter: 65000, examples: 4160000, mean loss: 0.062591, speed: 4.2 batch/sec, lr: 0.000082\n",
      "DEBUG:root:Iter: 66000, examples: 4224000, mean loss: 0.057680, speed: 4.2 batch/sec, lr: 0.000078\n",
      "DEBUG:root:Iter: 67000, examples: 4288000, mean loss: 0.061123, speed: 4.2 batch/sec, lr: 0.000074\n",
      "DEBUG:root:Iter: 68000, examples: 4352000, mean loss: 0.060314, speed: 4.2 batch/sec, lr: 0.000070\n",
      "DEBUG:root:Iter: 69000, examples: 4416000, mean loss: 0.059850, speed: 4.2 batch/sec, lr: 0.000066\n",
      "DEBUG:root:Iter: 70000, examples: 4480000, mean loss: 0.055915, speed: 4.2 batch/sec, lr: 0.000062\n",
      "DEBUG:root:Iter: 71000, examples: 4544000, mean loss: 0.055454, speed: 4.2 batch/sec, lr: 0.000058\n",
      "DEBUG:root:Iter: 72000, examples: 4608000, mean loss: 0.056462, speed: 4.2 batch/sec, lr: 0.000054\n",
      "DEBUG:root:Iter: 73000, examples: 4672000, mean loss: 0.056451, speed: 4.2 batch/sec, lr: 0.000051\n",
      "DEBUG:root:Iter: 74000, examples: 4736000, mean loss: 0.054528, speed: 4.2 batch/sec, lr: 0.000047\n",
      "DEBUG:root:Iter: 75000, examples: 4800000, mean loss: 0.053158, speed: 4.2 batch/sec, lr: 0.000044\n",
      "DEBUG:root:Iter: 76000, examples: 4864000, mean loss: 0.053198, speed: 4.2 batch/sec, lr: 0.000041\n",
      "DEBUG:root:Iter: 77000, examples: 4928000, mean loss: 0.055413, speed: 4.2 batch/sec, lr: 0.000037\n",
      "DEBUG:root:Iter: 78000, examples: 4992000, mean loss: 0.052255, speed: 4.2 batch/sec, lr: 0.000034\n",
      "DEBUG:root:Iter: 79000, examples: 5056000, mean loss: 0.054911, speed: 4.2 batch/sec, lr: 0.000031\n",
      "DEBUG:root:Iter: 80000, examples: 5120000, mean loss: 0.051690, speed: 4.2 batch/sec, lr: 0.000029\n",
      "DEBUG:root:Iter: 81000, examples: 5184000, mean loss: 0.051508, speed: 4.2 batch/sec, lr: 0.000026\n",
      "DEBUG:root:Iter: 82000, examples: 5248000, mean loss: 0.053245, speed: 4.2 batch/sec, lr: 0.000023\n",
      "DEBUG:root:Iter: 83000, examples: 5312000, mean loss: 0.050833, speed: 4.2 batch/sec, lr: 0.000021\n",
      "DEBUG:root:Iter: 84000, examples: 5376000, mean loss: 0.053699, speed: 4.2 batch/sec, lr: 0.000019\n",
      "DEBUG:root:Iter: 85000, examples: 5440000, mean loss: 0.050661, speed: 4.2 batch/sec, lr: 0.000016\n",
      "DEBUG:root:Iter: 86000, examples: 5504000, mean loss: 0.052033, speed: 4.2 batch/sec, lr: 0.000014\n",
      "DEBUG:root:Iter: 87000, examples: 5568000, mean loss: 0.051236, speed: 4.2 batch/sec, lr: 0.000012\n",
      "DEBUG:root:Iter: 88000, examples: 5632000, mean loss: 0.052313, speed: 4.2 batch/sec, lr: 0.000011\n",
      "DEBUG:root:Iter: 89000, examples: 5696000, mean loss: 0.052837, speed: 4.2 batch/sec, lr: 0.000009\n",
      "DEBUG:root:Iter: 90000, examples: 5760000, mean loss: 0.052157, speed: 4.2 batch/sec, lr: 0.000007\n",
      "DEBUG:root:Iter: 91000, examples: 5824000, mean loss: 0.050413, speed: 4.2 batch/sec, lr: 0.000006\n",
      "DEBUG:root:Iter: 92000, examples: 5888000, mean loss: 0.049216, speed: 4.2 batch/sec, lr: 0.000005\n",
      "DEBUG:root:Iter: 93000, examples: 5952000, mean loss: 0.049458, speed: 4.2 batch/sec, lr: 0.000004\n",
      "DEBUG:root:Iter: 94000, examples: 6016000, mean loss: 0.048951, speed: 4.2 batch/sec, lr: 0.000003\n",
      "DEBUG:root:Iter: 95000, examples: 6080000, mean loss: 0.049749, speed: 4.2 batch/sec, lr: 0.000002\n",
      "DEBUG:root:Iter: 96000, examples: 6144000, mean loss: 0.048290, speed: 4.2 batch/sec, lr: 0.000001\n",
      "DEBUG:root:Iter: 97000, examples: 6208000, mean loss: 0.050285, speed: 4.2 batch/sec, lr: 0.000001\n",
      "DEBUG:root:Iter: 98000, examples: 6272000, mean loss: 0.049754, speed: 4.2 batch/sec, lr: 0.000000\n",
      "DEBUG:root:Iter: 99000, examples: 6336000, mean loss: 0.053527, speed: 4.2 batch/sec, lr: 0.000000\n",
      "DEBUG:root:Iter: 100000, examples: 6400000, mean loss: 0.048733, speed: 4.2 batch/sec, lr: 0.000000\n",
      "INFO:root:Start eval\n",
      "INFO:root:__log__:{'batch_id': 100000, 'train_loss': 0.00020369240986183287, 'dev_loss': 0.0035809040293097497, 'train_auccess': 0.8895370477749474, 'dev_auccess': 0.769002814834819}\n"
     ]
    }
   ],
   "source": [
    "state = agent.train(cache, train, tier, dev)"
   ]
  },
  {
   "cell_type": "markdown",
   "metadata": {},
   "source": [
    "### 4. Evaluate the Agent"
   ]
  },
  {
   "cell_type": "code",
   "execution_count": 14,
   "metadata": {},
   "outputs": [],
   "source": [
    "evaluator = agent.eval(state, test, tier)"
   ]
  },
  {
   "cell_type": "markdown",
   "metadata": {},
   "source": [
    "#### 4.1 Percentage of solved tasks per number of attempts"
   ]
  },
  {
   "cell_type": "code",
   "execution_count": 19,
   "metadata": {},
   "outputs": [],
   "source": [
    "baseline = evaluator.compute_all_metrics()['independent_solved_by'][1:]"
   ]
  },
  {
   "cell_type": "code",
   "execution_count": 20,
   "metadata": {},
   "outputs": [],
   "source": [
    "two_head  = np.load('./two_head.npy')\n",
    "attention = np.load('./attention.npy')"
   ]
  },
  {
   "cell_type": "code",
   "execution_count": 27,
   "metadata": {},
   "outputs": [
    {
     "data": {
      "text/plain": [
       "(100,)"
      ]
     },
     "execution_count": 27,
     "metadata": {},
     "output_type": "execute_result"
    }
   ],
   "source": [
    "np.array(baseline).shape"
   ]
  },
  {
   "cell_type": "code",
   "execution_count": 47,
   "metadata": {},
   "outputs": [
    {
     "data": {
      "image/png": "[encoded data removed]",
      "text/plain": [
       "<Figure size 432x288 with 1 Axes>"
      ]
     },
     "metadata": {
      "needs_background": "light"
     },
     "output_type": "display_data"
    }
   ],
   "source": [
    "plt.plot(np.arange(phyre.MAX_TEST_ATTEMPTS)+1, baseline, label = 'DQN'   ,color = 'blue')\n",
    "plt.plot(np.arange(phyre.MAX_TEST_ATTEMPTS)+1, two_head, label = 'THQAN' ,color = 'green')\n",
    "plt.plot(np.arange(phyre.MAX_TEST_ATTEMPTS)+1, attention, label = 'ATQAN',color = 'red')\n",
    "plt.legend()\n",
    "plt.title('PHYRE-B Within template AUCCESS')\n",
    "plt.xscale('log')\n",
    "plt.savefig('AUCESS.png', dpi=300)\n",
    "plt.show()"
   ]
  },
  {
   "cell_type": "code",
   "execution_count": null,
   "metadata": {},
   "outputs": [],
   "source": []
  },
  {
   "cell_type": "code",
   "execution_count": 48,
   "metadata": {},
   "outputs": [
    {
     "data": {
      "image/png": "[encoded data removed]",
      "text/plain": [
       "<Figure size 432x288 with 1 Axes>"
      ]
     },
     "metadata": {
      "needs_background": "light"
     },
     "output_type": "display_data"
    }
   ],
   "source": [
    "loss = np.load('./predict_loss.npy')\n",
    "plt.plot(np.arange(30), loss[:,0], label = 'red', color = 'red')\n",
    "plt.plot(np.arange(30), loss[:,1], label = 'green', color = 'green')\n",
    "plt.plot(np.arange(30), loss[:,2], label = 'blue', color = 'blue')\n",
    "plt.title('Question Answering Loss')\n",
    "plt.legend()\n",
    "plt.savefig('QA_LOSS.png', dpi=300)\n",
    "plt.show()"
   ]
  },
  {
   "cell_type": "code",
   "execution_count": 43,
   "metadata": {},
   "outputs": [
    {
     "data": {
      "text/plain": [
       "array([[0.04498, 0.07119, 0.02847],\n",
       "       [0.02013, 0.02411, 0.0053 ],\n",
       "       [0.01639, 0.01869, 0.00364],\n",
       "       [0.01426, 0.01584, 0.00331],\n",
       "       [0.01358, 0.01463, 0.00266],\n",
       "       [0.01237, 0.0133 , 0.00237],\n",
       "       [0.01079, 0.01194, 0.00202],\n",
       "       [0.01034, 0.01129, 0.00182],\n",
       "       [0.00935, 0.01037, 0.00175],\n",
       "       [0.00883, 0.00995, 0.0015 ],\n",
       "       [0.00823, 0.00905, 0.00131],\n",
       "       [0.00779, 0.00851, 0.00125],\n",
       "       [0.00722, 0.00795, 0.00107],\n",
       "       [0.00699, 0.00756, 0.00103],\n",
       "       [0.00619, 0.00687, 0.00088],\n",
       "       [0.00615, 0.00659, 0.0008 ],\n",
       "       [0.00565, 0.00642, 0.00075],\n",
       "       [0.00536, 0.0057 , 0.00069],\n",
       "       [0.00513, 0.00539, 0.00063],\n",
       "       [0.00487, 0.005  , 0.00058],\n",
       "       [0.00466, 0.0048 , 0.00057],\n",
       "       [0.0044 , 0.00458, 0.00049],\n",
       "       [0.0042 , 0.00421, 0.00047],\n",
       "       [0.00404, 0.00416, 0.00045],\n",
       "       [0.00385, 0.00403, 0.00039],\n",
       "       [0.00369, 0.00396, 0.00038],\n",
       "       [0.00362, 0.00374, 0.00036],\n",
       "       [0.00351, 0.00355, 0.00035],\n",
       "       [0.00355, 0.00358, 0.00036],\n",
       "       [0.00357, 0.00357, 0.00034]])"
      ]
     },
     "execution_count": 43,
     "metadata": {},
     "output_type": "execute_result"
    }
   ],
   "source": [
    "loss"
   ]
  },
  {
   "cell_type": "markdown",
   "metadata": {},
   "source": [
    "#### 4.2 AUCESS"
   ]
  },
  {
   "cell_type": "code",
   "execution_count": 16,
   "metadata": {},
   "outputs": [
    {
     "name": "stdout",
     "output_type": "stream",
     "text": [
      "AUCESS after 100 attempts on test set 0.7627488222516529\n"
     ]
    }
   ],
   "source": [
    "print('AUCESS after 100 attempts on test set', evaluator.get_aucess())"
   ]
  },
  {
   "cell_type": "code",
   "execution_count": null,
   "metadata": {},
   "outputs": [],
   "source": []
  },
  {
   "cell_type": "code",
   "execution_count": 6,
   "metadata": {},
   "outputs": [
    {
     "data": {
      "text/plain": [
       "[<matplotlib.lines.Line2D at 0x7f024a383f98>]"
      ]
     },
     "execution_count": 6,
     "metadata": {},
     "output_type": "execute_result"
    },
    {
     "data": {
      "image/png": "[encoded data removed]",
      "text/plain": [
       "<Figure size 432x288 with 1 Axes>"
      ]
     },
     "metadata": {
      "needs_background": "light"
     },
     "output_type": "display_data"
    }
   ],
   "source": [
    "plt.title('Dummy figure')\n",
    "plt.plot(np.arange(phyre.MAX_TEST_ATTEMPTS)+1, np.arange(phyre.MAX_TEST_ATTEMPTS)+1)\n"
   ]
  },
  {
   "cell_type": "code",
   "execution_count": null,
   "metadata": {},
   "outputs": [],
   "source": []
  }
 ],
 "metadata": {
  "kernelspec": {
   "display_name": "Python 3",
   "language": "python",
   "name": "python3"
  },
  "language_info": {
   "codemirror_mode": {
    "name": "ipython",
    "version": 3
   },
   "file_extension": ".py",
   "mimetype": "text/x-python",
   "name": "python",
   "nbconvert_exporter": "python",
   "pygments_lexer": "ipython3",
   "version": "3.6.9"
  }
 },
 "nbformat": 4,
 "nbformat_minor": 4
}
